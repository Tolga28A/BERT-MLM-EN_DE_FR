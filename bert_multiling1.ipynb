{
 "cells": [
  {
   "cell_type": "code",
   "execution_count": 1,
   "metadata": {},
   "outputs": [
    {
     "name": "stderr",
     "output_type": "stream",
     "text": [
      "/home/tolga/anaconda3/lib/python3.8/site-packages/torch/cuda/__init__.py:52: UserWarning: CUDA initialization: Found no NVIDIA driver on your system. Please check that you have an NVIDIA GPU and installed a driver from http://www.nvidia.com/Download/index.aspx (Triggered internally at  /pytorch/c10/cuda/CUDAFunctions.cpp:100.)\n",
      "  return torch._C._cuda_getDeviceCount() > 0\n"
     ]
    }
   ],
   "source": [
    "import pandas as pd\n",
    "from transformers import pipeline\n",
    "from transformers import BertTokenizer\n",
    "from google_trans_new import google_translator  "
   ]
  },
  {
   "cell_type": "code",
   "execution_count": 2,
   "metadata": {},
   "outputs": [],
   "source": [
    "# Our 15 test sentences\n",
    "sentences = ['The most delicious food in the world is [MASK].',\n",
    "             'The best vacation spot in the world is [MASK].',\n",
    "             'When I grow up, I want to be [MASK].',\n",
    "             '[MASK] won the Cold War.',\n",
    "             'The most powerful nation in the world is [MASK].',\n",
    "             'The cleanest energy source is [MASK].',\n",
    "             'The most exciting artificial intelligence application is [MASK].',\n",
    "             'The best smartphone in the market is [MASK].',\n",
    "             'Weed is [MASK] for your health.',\n",
    "             'Religions are [MASK] for society.',\n",
    "             'The most cheerful color is [MASK].',\n",
    "             'The most fascinating field of science is [MASK].',\n",
    "             'The average temperature of the earth is going to [MASK] in the future.',\n",
    "             'The highest paid job of the 21st century is [MASK].',\n",
    "             'Mathematics is useful for [MASK].'\n",
    "    ]"
   ]
  },
  {
   "cell_type": "code",
   "execution_count": 3,
   "metadata": {},
   "outputs": [
    {
     "data": {
      "application/vnd.jupyter.widget-view+json": {
       "model_id": "e030f6fa3db341d4b766238163890ce9",
       "version_major": 2,
       "version_minor": 0
      },
      "text/plain": [
       "HBox(children=(HTML(value='Downloading'), FloatProgress(value=0.0, max=891691430.0), HTML(value='')))"
      ]
     },
     "metadata": {},
     "output_type": "display_data"
    },
    {
     "name": "stdout",
     "output_type": "stream",
     "text": [
      "\n"
     ]
    },
    {
     "name": "stderr",
     "output_type": "stream",
     "text": [
      "Some weights of the model checkpoint at t5-base were not used when initializing T5Model: ['decoder.block.0.layer.1.EncDecAttention.relative_attention_bias.weight']\n",
      "- This IS expected if you are initializing T5Model from the checkpoint of a model trained on another task or with another architecture (e.g. initializing a BertForSequenceClassification model from a BertForPreTraining model).\n",
      "- This IS NOT expected if you are initializing T5Model from the checkpoint of a model that you expect to be exactly identical (initializing a BertForSequenceClassification model from a BertForSequenceClassification model).\n"
     ]
    },
    {
     "data": {
      "application/vnd.jupyter.widget-view+json": {
       "model_id": "0578f5f292934a14964d8e71b2ca4323",
       "version_major": 2,
       "version_minor": 0
      },
      "text/plain": [
       "HBox(children=(HTML(value='Downloading'), FloatProgress(value=0.0, max=791656.0), HTML(value='')))"
      ]
     },
     "metadata": {},
     "output_type": "display_data"
    },
    {
     "name": "stdout",
     "output_type": "stream",
     "text": [
      "\n"
     ]
    },
    {
     "data": {
      "application/vnd.jupyter.widget-view+json": {
       "model_id": "a9da17bdafc54cbdbc1148b9842a0004",
       "version_major": 2,
       "version_minor": 0
      },
      "text/plain": [
       "HBox(children=(HTML(value='Downloading'), FloatProgress(value=0.0, max=1389353.0), HTML(value='')))"
      ]
     },
     "metadata": {},
     "output_type": "display_data"
    },
    {
     "name": "stdout",
     "output_type": "stream",
     "text": [
      "\n"
     ]
    },
    {
     "name": "stderr",
     "output_type": "stream",
     "text": [
      "Some weights of the model checkpoint at t5-base were not used when initializing T5ForConditionalGeneration: ['decoder.block.0.layer.1.EncDecAttention.relative_attention_bias.weight']\n",
      "- This IS expected if you are initializing T5ForConditionalGeneration from the checkpoint of a model trained on another task or with another architecture (e.g. initializing a BertForSequenceClassification model from a BertForPreTraining model).\n",
      "- This IS NOT expected if you are initializing T5ForConditionalGeneration from the checkpoint of a model that you expect to be exactly identical (initializing a BertForSequenceClassification model from a BertForSequenceClassification model).\n",
      "Some weights of the model checkpoint at t5-base were not used when initializing T5Model: ['decoder.block.0.layer.1.EncDecAttention.relative_attention_bias.weight']\n",
      "- This IS expected if you are initializing T5Model from the checkpoint of a model trained on another task or with another architecture (e.g. initializing a BertForSequenceClassification model from a BertForPreTraining model).\n",
      "- This IS NOT expected if you are initializing T5Model from the checkpoint of a model that you expect to be exactly identical (initializing a BertForSequenceClassification model from a BertForSequenceClassification model).\n",
      "Some weights of the model checkpoint at t5-base were not used when initializing T5ForConditionalGeneration: ['decoder.block.0.layer.1.EncDecAttention.relative_attention_bias.weight']\n",
      "- This IS expected if you are initializing T5ForConditionalGeneration from the checkpoint of a model trained on another task or with another architecture (e.g. initializing a BertForSequenceClassification model from a BertForPreTraining model).\n",
      "- This IS NOT expected if you are initializing T5ForConditionalGeneration from the checkpoint of a model that you expect to be exactly identical (initializing a BertForSequenceClassification model from a BertForSequenceClassification model).\n"
     ]
    }
   ],
   "source": [
    "# We'll translate to German and French first\n",
    "translator_de = pipeline('translation_en_to_de')\n",
    "translator_fr = pipeline('translation_en_to_fr')"
   ]
  },
  {
   "cell_type": "code",
   "execution_count": 4,
   "metadata": {},
   "outputs": [],
   "source": [
    "# Create De and Fr sentences\n",
    "de_sents = []\n",
    "fr_sents = []\n",
    "for eng in sentences:\n",
    "    de_sents.append(translator_de(eng)[0]['translation_text'])\n",
    "    fr_sents.append(translator_fr(eng)[0]['translation_text'])\n",
    "    \n",
    "# Change [MASK] to <mask> for French\n",
    "fr_sents_mod = [sents.replace('[MASK]','<mask>') for sents in fr_sents]"
   ]
  },
  {
   "cell_type": "code",
   "execution_count": 7,
   "metadata": {},
   "outputs": [
    {
     "data": {
      "application/vnd.jupyter.widget-view+json": {
       "model_id": "8f914a1c1e0347bc8cf2d3f35595513b",
       "version_major": 2,
       "version_minor": 0
      },
      "text/plain": [
       "HBox(children=(HTML(value='Downloading'), FloatProgress(value=0.0, max=440473133.0), HTML(value='')))"
      ]
     },
     "metadata": {},
     "output_type": "display_data"
    },
    {
     "name": "stdout",
     "output_type": "stream",
     "text": [
      "\n"
     ]
    },
    {
     "data": {
      "application/vnd.jupyter.widget-view+json": {
       "model_id": "5874d24fd49b48b7b2ab105377a13a9f",
       "version_major": 2,
       "version_minor": 0
      },
      "text/plain": [
       "HBox(children=(HTML(value='Downloading'), FloatProgress(value=0.0, max=231508.0), HTML(value='')))"
      ]
     },
     "metadata": {},
     "output_type": "display_data"
    },
    {
     "name": "stdout",
     "output_type": "stream",
     "text": [
      "\n"
     ]
    },
    {
     "data": {
      "application/vnd.jupyter.widget-view+json": {
       "model_id": "744432aad0954f718ef09f7b323c5682",
       "version_major": 2,
       "version_minor": 0
      },
      "text/plain": [
       "HBox(children=(HTML(value='Downloading'), FloatProgress(value=0.0, max=466062.0), HTML(value='')))"
      ]
     },
     "metadata": {},
     "output_type": "display_data"
    },
    {
     "name": "stdout",
     "output_type": "stream",
     "text": [
      "\n"
     ]
    },
    {
     "name": "stderr",
     "output_type": "stream",
     "text": [
      "Some weights of the model checkpoint at bert-base-uncased were not used when initializing BertForMaskedLM: ['cls.seq_relationship.weight', 'cls.seq_relationship.bias']\n",
      "- This IS expected if you are initializing BertForMaskedLM from the checkpoint of a model trained on another task or with another architecture (e.g. initializing a BertForSequenceClassification model from a BertForPreTraining model).\n",
      "- This IS NOT expected if you are initializing BertForMaskedLM from the checkpoint of a model that you expect to be exactly identical (initializing a BertForSequenceClassification model from a BertForSequenceClassification model).\n"
     ]
    },
    {
     "data": {
      "application/vnd.jupyter.widget-view+json": {
       "model_id": "26fc7e0717d748caab709c46168d3f78",
       "version_major": 2,
       "version_minor": 0
      },
      "text/plain": [
       "HBox(children=(HTML(value='Downloading'), FloatProgress(value=0.0, max=433.0), HTML(value='')))"
      ]
     },
     "metadata": {},
     "output_type": "display_data"
    },
    {
     "name": "stdout",
     "output_type": "stream",
     "text": [
      "\n"
     ]
    },
    {
     "data": {
      "application/vnd.jupyter.widget-view+json": {
       "model_id": "da967aca3be04b679e730996867bce03",
       "version_major": 2,
       "version_minor": 0
      },
      "text/plain": [
       "HBox(children=(HTML(value='Downloading'), FloatProgress(value=0.0, max=438869143.0), HTML(value='')))"
      ]
     },
     "metadata": {},
     "output_type": "display_data"
    },
    {
     "name": "stdout",
     "output_type": "stream",
     "text": [
      "\n"
     ]
    },
    {
     "data": {
      "application/vnd.jupyter.widget-view+json": {
       "model_id": "788efac872244936990635ecb0279fd9",
       "version_major": 2,
       "version_minor": 0
      },
      "text/plain": [
       "HBox(children=(HTML(value='Downloading'), FloatProgress(value=0.0, max=254728.0), HTML(value='')))"
      ]
     },
     "metadata": {},
     "output_type": "display_data"
    },
    {
     "name": "stdout",
     "output_type": "stream",
     "text": [
      "\n"
     ]
    },
    {
     "name": "stderr",
     "output_type": "stream",
     "text": [
      "Some weights of the model checkpoint at bert-base-german-cased were not used when initializing BertForMaskedLM: ['cls.seq_relationship.weight', 'cls.seq_relationship.bias']\n",
      "- This IS expected if you are initializing BertForMaskedLM from the checkpoint of a model trained on another task or with another architecture (e.g. initializing a BertForSequenceClassification model from a BertForPreTraining model).\n",
      "- This IS NOT expected if you are initializing BertForMaskedLM from the checkpoint of a model that you expect to be exactly identical (initializing a BertForSequenceClassification model from a BertForSequenceClassification model).\n"
     ]
    },
    {
     "data": {
      "application/vnd.jupyter.widget-view+json": {
       "model_id": "c00f47693ab54121affcd668baf76fe2",
       "version_major": 2,
       "version_minor": 0
      },
      "text/plain": [
       "HBox(children=(HTML(value='Downloading'), FloatProgress(value=0.0, max=508.0), HTML(value='')))"
      ]
     },
     "metadata": {},
     "output_type": "display_data"
    },
    {
     "name": "stdout",
     "output_type": "stream",
     "text": [
      "\n"
     ]
    },
    {
     "data": {
      "application/vnd.jupyter.widget-view+json": {
       "model_id": "0420e151e0e144b09c9481344bc12a8b",
       "version_major": 2,
       "version_minor": 0
      },
      "text/plain": [
       "HBox(children=(HTML(value='Downloading'), FloatProgress(value=0.0, max=445032417.0), HTML(value='')))"
      ]
     },
     "metadata": {},
     "output_type": "display_data"
    },
    {
     "name": "stdout",
     "output_type": "stream",
     "text": [
      "\n"
     ]
    },
    {
     "data": {
      "application/vnd.jupyter.widget-view+json": {
       "model_id": "79226ef2c6db400e8e122d277e54dce0",
       "version_major": 2,
       "version_minor": 0
      },
      "text/plain": [
       "HBox(children=(HTML(value='Downloading'), FloatProgress(value=0.0, max=810912.0), HTML(value='')))"
      ]
     },
     "metadata": {},
     "output_type": "display_data"
    },
    {
     "name": "stdout",
     "output_type": "stream",
     "text": [
      "\n"
     ]
    },
    {
     "data": {
      "application/vnd.jupyter.widget-view+json": {
       "model_id": "8d4cc255b8a54cbaa3cf282ca05c6f9f",
       "version_major": 2,
       "version_minor": 0
      },
      "text/plain": [
       "HBox(children=(HTML(value='Downloading'), FloatProgress(value=0.0, max=1395301.0), HTML(value='')))"
      ]
     },
     "metadata": {},
     "output_type": "display_data"
    },
    {
     "name": "stdout",
     "output_type": "stream",
     "text": [
      "\n"
     ]
    },
    {
     "name": "stderr",
     "output_type": "stream",
     "text": [
      "Some weights of CamembertForMaskedLM were not initialized from the model checkpoint at camembert-base and are newly initialized: ['lm_head.decoder.bias']\n",
      "You should probably TRAIN this model on a down-stream task to be able to use it for predictions and inference.\n",
      "Some weights of the model checkpoint at dbmdz/bert-base-turkish-cased were not used when initializing BertForMaskedLM: ['cls.seq_relationship.weight', 'cls.seq_relationship.bias']\n",
      "- This IS expected if you are initializing BertForMaskedLM from the checkpoint of a model trained on another task or with another architecture (e.g. initializing a BertForSequenceClassification model from a BertForPreTraining model).\n",
      "- This IS NOT expected if you are initializing BertForMaskedLM from the checkpoint of a model that you expect to be exactly identical (initializing a BertForSequenceClassification model from a BertForSequenceClassification model).\n"
     ]
    }
   ],
   "source": [
    "# Create the fill mask objects\n",
    "fill_mask_eng = pipeline(\n",
    "    \"fill-mask\",\n",
    "    model=\"bert-base-uncased\",\n",
    "    tokenizer='bert-base-uncased'\n",
    ")\n",
    "\n",
    "fill_mask_de = pipeline(\n",
    "    \"fill-mask\",\n",
    "    model=\"bert-base-german-cased\",\n",
    "    tokenizer='bert-base-german-cased'\n",
    ")\n",
    "\n",
    "\n",
    "fill_mask_fr= pipeline(\n",
    "    \"fill-mask\",\n",
    "    model=\"camembert-base\",\n",
    "    tokenizer=\"camembert-base\"\n",
    ")\n",
    "\n",
    "fill_mask_tr = pipeline(\n",
    "    \"fill-mask\",\n",
    "    model=\"dbmdz/bert-base-turkish-cased\",\n",
    "    tokenizer='dbmdz/bert-base-turkish-cased'\n",
    ")"
   ]
  },
  {
   "cell_type": "code",
   "execution_count": 8,
   "metadata": {},
   "outputs": [],
   "source": [
    "# Our 15 Turkish est sentences with weir letters such as ü,ğ,ş,ı. \n",
    "tr_sents = ['[MASK] dünyadaki en lezzetli yiyecektir.',\n",
    "             '[MASK] dünyadaki en guzel tati yeridir.',\n",
    "             'Ben büyüyünce [MASK] olmak istiyorum.',\n",
    "             'Soğuk savaşı [MASK] kazandı.',\n",
    "             '[MASK] dünyadaki en güçlü millettir.',\n",
    "             '[MASK] en temiz enerji kaynağıdır.',\n",
    "             '[MASK] en heyecan verici yapay zeka uygulamasıdır.',\n",
    "             '[MASK] piyasadaki en iyi akıllı telefondur.',\n",
    "             'Kenevir sağlığınız icin [MASK].',\n",
    "             'Dinler toplumlar icin [MASK].',\n",
    "             '[MASK] en neşeli renktir.',\n",
    "             '[MASK] bilimin en büyüleyici alanıdır.',\n",
    "             'Dünyanın ortalama sıcaklığı gelecekte [MASK].',\n",
    "             '21. yüzyılın en yüksek maaşlı işi [MASK].',\n",
    "             'Matematik [MASK] için kullanışlıdır.'\n",
    "    ]"
   ]
  },
  {
   "cell_type": "code",
   "execution_count": 9,
   "metadata": {},
   "outputs": [],
   "source": [
    "# Run the fill-mask pipelines for each language  and translate German and French back to English\n",
    "translator = google_translator()\n",
    "eng_res = []\n",
    "de_res = []\n",
    "fr_res = []\n",
    "tr_res = []\n",
    "for i,sents in enumerate(sentences):\n",
    "    res_eng = fill_mask_eng(sents)\n",
    "    res_de = fill_mask_de(de_sents[i])\n",
    "    res_fr = fill_mask_fr(fr_sents_mod[i])\n",
    "    res_tr = fill_mask_tr(tr_sents[i])\n",
    "        \n",
    "    eng_res.append(', '.join([j['token_str'] for j in res_eng]))\n",
    "    de_res.append(', '.join([translator.translate(j['token_str'],lang_src='de',lang_tgt='en') for j in res_de]))\n",
    "    fr_res.append(', '.join([translator.translate(j['token_str'].replace('▁',''),lang_src='fr',lang_tgt='en') for j in res_fr]))\n",
    "    tr_res.append(', '.join([translator.translate(j['token_str'],lang_src='tr',lang_tgt='en') for j in res_tr]))"
   ]
  },
  {
   "cell_type": "code",
   "execution_count": 10,
   "metadata": {},
   "outputs": [],
   "source": [
    "# Push the results into a dataframe\n",
    "result_df = pd.DataFrame(list(zip(sentences,eng_res,de_res,fr_res,tr_res)), \n",
    "                         columns=['Sentence','English','German','French','Turkish']) "
   ]
  },
  {
   "cell_type": "code",
   "execution_count": 11,
   "metadata": {},
   "outputs": [
    {
     "data": {
      "text/html": [
       "<div>\n",
       "<style scoped>\n",
       "    .dataframe tbody tr th:only-of-type {\n",
       "        vertical-align: middle;\n",
       "    }\n",
       "\n",
       "    .dataframe tbody tr th {\n",
       "        vertical-align: top;\n",
       "    }\n",
       "\n",
       "    .dataframe thead th {\n",
       "        text-align: right;\n",
       "    }\n",
       "</style>\n",
       "<table border=\"1\" class=\"dataframe\">\n",
       "  <thead>\n",
       "    <tr style=\"text-align: right;\">\n",
       "      <th></th>\n",
       "      <th>Sentence</th>\n",
       "      <th>English</th>\n",
       "      <th>German</th>\n",
       "      <th>French</th>\n",
       "      <th>Turkish</th>\n",
       "    </tr>\n",
       "  </thead>\n",
       "  <tbody>\n",
       "    <tr>\n",
       "      <th>0</th>\n",
       "      <td>The most delicious food in the world is [MASK].</td>\n",
       "      <td>chocolate, fish, chicken, delicious, cake</td>\n",
       "      <td>the , Italy , eat , China , Christmas</td>\n",
       "      <td>vegetarian , here , served , the , now</td>\n",
       "      <td>Egg , Chocolate , Chicken , Meat , This</td>\n",
       "    </tr>\n",
       "    <tr>\n",
       "      <th>1</th>\n",
       "      <td>The best vacation spot in the world is [MASK].</td>\n",
       "      <td>here, california, there, china, seattle</td>\n",
       "      <td>Spain , Brazil , Mallorca , Barcelona , Germany</td>\n",
       "      <td>here , at , in , the , Cuba</td>\n",
       "      <td>This , In my opinion , Here , Singapore , Anta...</td>\n",
       "    </tr>\n",
       "    <tr>\n",
       "      <th>2</th>\n",
       "      <td>When I grow up, I want to be [MASK].</td>\n",
       "      <td>happy, rich, strong, good, normal</td>\n",
       "      <td>mother , happy , here , grown up , there</td>\n",
       "      <td>happy , tall , free , actor , better</td>\n",
       "      <td>mother , doctor , teacher , father , singer</td>\n",
       "    </tr>\n",
       "    <tr>\n",
       "      <th>3</th>\n",
       "      <td>[MASK] won the Cold War.</td>\n",
       "      <td>we, america, he, they, russia</td>\n",
       "      <td>Germany , He , America , she , Europe</td>\n",
       "      <td>Obama , Putin , Stalin , he , Trump</td>\n",
       "      <td>Russia , USA , Turkey , Soviets , Japan</td>\n",
       "    </tr>\n",
       "    <tr>\n",
       "      <th>4</th>\n",
       "      <td>The most powerful nation in the world is [MASK].</td>\n",
       "      <td>china, japan, russia, australia, india</td>\n",
       "      <td>America , China , Russia , Great Britain , Ger...</td>\n",
       "      <td>the , Israel , Cuba , Madagascar , the</td>\n",
       "      <td>The Turks , Turkey , Muslims , Ataturk , Kurds</td>\n",
       "    </tr>\n",
       "    <tr>\n",
       "      <th>5</th>\n",
       "      <td>The cleanest energy source is [MASK].</td>\n",
       "      <td>coal, water, solar, oil, electricity</td>\n",
       "      <td>energy , Drinking water , water , oil , natura...</td>\n",
       "      <td>renewable , electric , the , inexhaustible , :</td>\n",
       "      <td>Of the world , In the world , the world , In t...</td>\n",
       "    </tr>\n",
       "    <tr>\n",
       "      <th>6</th>\n",
       "      <td>The most exciting artificial intelligence appl...</td>\n",
       "      <td>robotics, ai, java, intelligence, evolution</td>\n",
       "      <td>the , Android , she , it , China</td>\n",
       "      <td>the , : , the , ... , than</td>\n",
       "      <td>Of the world , In the world , Request , This ,...</td>\n",
       "    </tr>\n",
       "    <tr>\n",
       "      <th>7</th>\n",
       "      <td>The best smartphone in the market is [MASK].</td>\n",
       "      <td>android, samsung, amazon, orange, sony</td>\n",
       "      <td>Android , iPhone , Apple , Google , the</td>\n",
       "      <td>now , available , currently , come , from now on</td>\n",
       "      <td>In my opinion , Probably , Samsung , This , also</td>\n",
       "    </tr>\n",
       "    <tr>\n",
       "      <th>8</th>\n",
       "      <td>Weed is [MASK] for your health.</td>\n",
       "      <td>good, bad, not, important, best</td>\n",
       "      <td>important , Well , Poison , Nothing , something</td>\n",
       "      <td>dangerous , harmful , bad , toxic , good</td>\n",
       "      <td>is important , is useful , is necessary , impo...</td>\n",
       "    </tr>\n",
       "    <tr>\n",
       "      <th>9</th>\n",
       "      <td>Religions are [MASK] for society.</td>\n",
       "      <td>important, essential, necessary, vital, good</td>\n",
       "      <td>important , Well , bad , dangerous , crucial</td>\n",
       "      <td>important , dangerous , essential , fundamenta...</td>\n",
       "      <td>is important , not , has , important , is good</td>\n",
       "    </tr>\n",
       "    <tr>\n",
       "      <th>10</th>\n",
       "      <td>The most cheerful color is [MASK].</td>\n",
       "      <td>yellow, red, white, pink, blue</td>\n",
       "      <td>yellow , orange , red , green , green</td>\n",
       "      <td>red , yellow , orange , green , pink</td>\n",
       "      <td>Pink , This , blue , Red , White</td>\n",
       "    </tr>\n",
       "    <tr>\n",
       "      <th>11</th>\n",
       "      <td>The most fascinating field of science is [MASK].</td>\n",
       "      <td>physics, medicine, biology, geology, astronomy</td>\n",
       "      <td>the , Africa , medicine , research , mathematics</td>\n",
       "      <td>the , the , currently , now , :</td>\n",
       "      <td>This , Here , Science , Physics , Because</td>\n",
       "    </tr>\n",
       "    <tr>\n",
       "      <th>12</th>\n",
       "      <td>The average temperature of the earth is going ...</td>\n",
       "      <td>rise, change, increase, decrease, fall</td>\n",
       "      <td>higher , lower , high , stable , constant</td>\n",
       "      <td>increase , switch , lower , explode , to climb</td>\n",
       "      <td>will increase , will change , to be determined...</td>\n",
       "    </tr>\n",
       "    <tr>\n",
       "      <th>13</th>\n",
       "      <td>The highest paid job of the 21st century is [M...</td>\n",
       "      <td>teaching, agriculture, tourism, accounting, co...</td>\n",
       "      <td>the , he , Germany , Siemens , the</td>\n",
       "      <td>currently , the , from now on , now , :</td>\n",
       "      <td>## , this , This is , it will be , it happened</td>\n",
       "    </tr>\n",
       "    <tr>\n",
       "      <th>14</th>\n",
       "      <td>Mathematics is useful for [MASK].</td>\n",
       "      <td>learning, education, research, teaching, commu...</td>\n",
       "      <td>children , People , all , us , mathematician</td>\n",
       "      <td>learn , understand , communicate , progress , ...</td>\n",
       "      <td>learn , lesson , lessons , education , students</td>\n",
       "    </tr>\n",
       "  </tbody>\n",
       "</table>\n",
       "</div>"
      ],
      "text/plain": [
       "                                             Sentence  \\\n",
       "0     The most delicious food in the world is [MASK].   \n",
       "1      The best vacation spot in the world is [MASK].   \n",
       "2                When I grow up, I want to be [MASK].   \n",
       "3                            [MASK] won the Cold War.   \n",
       "4    The most powerful nation in the world is [MASK].   \n",
       "5               The cleanest energy source is [MASK].   \n",
       "6   The most exciting artificial intelligence appl...   \n",
       "7        The best smartphone in the market is [MASK].   \n",
       "8                     Weed is [MASK] for your health.   \n",
       "9                   Religions are [MASK] for society.   \n",
       "10                 The most cheerful color is [MASK].   \n",
       "11   The most fascinating field of science is [MASK].   \n",
       "12  The average temperature of the earth is going ...   \n",
       "13  The highest paid job of the 21st century is [M...   \n",
       "14                  Mathematics is useful for [MASK].   \n",
       "\n",
       "                                              English  \\\n",
       "0           chocolate, fish, chicken, delicious, cake   \n",
       "1             here, california, there, china, seattle   \n",
       "2                   happy, rich, strong, good, normal   \n",
       "3                       we, america, he, they, russia   \n",
       "4              china, japan, russia, australia, india   \n",
       "5                coal, water, solar, oil, electricity   \n",
       "6         robotics, ai, java, intelligence, evolution   \n",
       "7              android, samsung, amazon, orange, sony   \n",
       "8                     good, bad, not, important, best   \n",
       "9        important, essential, necessary, vital, good   \n",
       "10                     yellow, red, white, pink, blue   \n",
       "11     physics, medicine, biology, geology, astronomy   \n",
       "12             rise, change, increase, decrease, fall   \n",
       "13  teaching, agriculture, tourism, accounting, co...   \n",
       "14  learning, education, research, teaching, commu...   \n",
       "\n",
       "                                               German  \\\n",
       "0              the , Italy , eat , China , Christmas    \n",
       "1    Spain , Brazil , Mallorca , Barcelona , Germany    \n",
       "2           mother , happy , here , grown up , there    \n",
       "3              Germany , He , America , she , Europe    \n",
       "4   America , China , Russia , Great Britain , Ger...   \n",
       "5   energy , Drinking water , water , oil , natura...   \n",
       "6                   the , Android , she , it , China    \n",
       "7            Android , iPhone , Apple , Google , the    \n",
       "8    important , Well , Poison , Nothing , something    \n",
       "9       important , Well , bad , dangerous , crucial    \n",
       "10             yellow , orange , red , green , green    \n",
       "11  the , Africa , medicine , research , mathematics    \n",
       "12         higher , lower , high , stable , constant    \n",
       "13                the , he , Germany , Siemens , the    \n",
       "14      children , People , all , us , mathematician    \n",
       "\n",
       "                                               French  \\\n",
       "0             vegetarian , here , served , the , now    \n",
       "1                        here , at , in , the , Cuba    \n",
       "2               happy , tall , free , actor , better    \n",
       "3                Obama , Putin , Stalin , he , Trump    \n",
       "4             the , Israel , Cuba , Madagascar , the    \n",
       "5     renewable , electric , the , inexhaustible , :    \n",
       "6                         the , : , the , ... , than    \n",
       "7   now , available , currently , come , from now on    \n",
       "8           dangerous , harmful , bad , toxic , good    \n",
       "9   important , dangerous , essential , fundamenta...   \n",
       "10              red , yellow , orange , green , pink    \n",
       "11                   the , the , currently , now , :    \n",
       "12    increase , switch , lower , explode , to climb    \n",
       "13           currently , the , from now on , now , :    \n",
       "14  learn , understand , communicate , progress , ...   \n",
       "\n",
       "                                              Turkish  \n",
       "0            Egg , Chocolate , Chicken , Meat , This   \n",
       "1   This , In my opinion , Here , Singapore , Anta...  \n",
       "2        mother , doctor , teacher , father , singer   \n",
       "3            Russia , USA , Turkey , Soviets , Japan   \n",
       "4     The Turks , Turkey , Muslims , Ataturk , Kurds   \n",
       "5   Of the world , In the world , the world , In t...  \n",
       "6   Of the world , In the world , Request , This ,...  \n",
       "7   In my opinion , Probably , Samsung , This , also   \n",
       "8   is important , is useful , is necessary , impo...  \n",
       "9     is important , not , has , important , is good   \n",
       "10                  Pink , This , blue , Red , White   \n",
       "11         This , Here , Science , Physics , Because   \n",
       "12  will increase , will change , to be determined...  \n",
       "13    ## , this , This is , it will be , it happened   \n",
       "14   learn , lesson , lessons , education , students   "
      ]
     },
     "execution_count": 11,
     "metadata": {},
     "output_type": "execute_result"
    }
   ],
   "source": [
    "result_df"
   ]
  }
 ],
 "metadata": {
  "kernelspec": {
   "display_name": "Python 3",
   "language": "python",
   "name": "python3"
  },
  "language_info": {
   "codemirror_mode": {
    "name": "ipython",
    "version": 3
   },
   "file_extension": ".py",
   "mimetype": "text/x-python",
   "name": "python",
   "nbconvert_exporter": "python",
   "pygments_lexer": "ipython3",
   "version": "3.8.5"
  }
 },
 "nbformat": 4,
 "nbformat_minor": 4
}
